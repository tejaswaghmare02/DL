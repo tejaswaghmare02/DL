{
 "cells": [
  {
   "cell_type": "code",
   "execution_count": 15,
   "metadata": {},
   "outputs": [],
   "source": [
    "# Implement multilayer perceptron with back propagation (student should implement mathematical operations of back propagation with suitable example)."
   ]
  },
  {
   "cell_type": "markdown",
   "metadata": {},
   "source": [
    "### Mathematical Operations in Backpropagation:\n",
    "\n",
    "#### Forward Propagation:\n",
    "1. **Weighted Sum at Each Neuron:**\n",
    "   \\[ z = \\sum_{i=1}^{n} (w_i * x_i) + b \\]\n",
    "   \\(w_i\\) = weights, \\(x_i\\) = inputs, \\(b\\) = bias\n",
    "\n",
    "2. **Activation Function:**\n",
    "   \\[ a = \\sigma(z) \\]\n",
    "   \\(a\\) = output of the neuron, \\(\\sigma\\) = activation function\n",
    "\n",
    "#### Backpropagation:\n",
    "1. **Output Layer Error:**\n",
    "   \\[ \\delta_{output} = (y_{true} - y_{predicted}) \\times \\sigma'(z_{output}) \\]\n",
    "   \n",
    "2. **Hidden Layer Error:**\n",
    "   \\[ \\delta_{hidden} = \\delta_{output} \\times W_{output}^T \\times \\sigma'(z_{hidden}) \\]\n",
    "\n",
    "3. **Weight and Bias Update:**\n",
    "   \\[ \\Delta W = \\alpha \\times \\delta \\times X \\]\n"
   ]
  },
  {
   "cell_type": "code",
   "execution_count": 27,
   "metadata": {},
   "outputs": [
    {
     "name": "stdout",
     "output_type": "stream",
     "text": [
      "Predicted Output after Training:\n",
      "[[8.11785039e-04]\n",
      " [2.60019466e-02]\n",
      " [2.58946559e-02]\n",
      " [9.64156653e-01]]\n",
      "Rounded Output:\n",
      "[[0]\n",
      " [0]\n",
      " [0]\n",
      " [1]]\n"
     ]
    }
   ],
   "source": [
    "import numpy as np\n",
    "\n",
    "# Define the sigmoid activation function and its derivative\n",
    "def sigmoid(x):\n",
    "    return 1 / (1 + np.exp(-x))\n",
    "\n",
    "def sigmoid_derivative(x):\n",
    "    return x * (1 - x)\n",
    "\n",
    "# Set the input data (XOR)\n",
    "X = np.array([[0, 0],[0, 1],[1, 0],[1, 1]])\n",
    "\n",
    "# Set the true outputs sum of two numbers\n",
    "y_true = np.array([[0],[0],[0],[1]])\n",
    "\n",
    "# Initialize weights and biases randomly\n",
    "input_size = 2\n",
    "hidden_size = 4\n",
    "output_size = 1\n",
    "\n",
    "hidden_weights = np.random.uniform(size=(input_size, hidden_size))\n",
    "hidden_bias = np.random.uniform(size=(1, hidden_size))\n",
    "output_weights = np.random.uniform(size=(hidden_size, output_size))\n",
    "output_bias = np.random.uniform(size=(1, output_size))\n",
    "\n",
    "learning_rate = 0.1\n",
    "epochs = 10000\n",
    "\n",
    "# Training the network\n",
    "for epoch in range(epochs):\n",
    "    # Forward propagation\n",
    "    hidden_layer_input = np.dot(X, hidden_weights) + hidden_bias\n",
    "    hidden_layer_output = sigmoid(hidden_layer_input)\n",
    "\n",
    "    output_layer_input = np.dot(hidden_layer_output, output_weights) + output_bias\n",
    "    predicted_output = sigmoid(output_layer_input)\n",
    "\n",
    "    # Backpropagation\n",
    "    output_error = y_true - predicted_output\n",
    "    output_delta = output_error * sigmoid_derivative(predicted_output)\n",
    "\n",
    "    hidden_error = output_delta.dot(output_weights.T)\n",
    "    hidden_delta = hidden_error * sigmoid_derivative(hidden_layer_output)\n",
    "\n",
    "    # Updating weights and biases\n",
    "    output_weights += learning_rate * hidden_layer_output.T.dot(output_delta)\n",
    "    output_bias += learning_rate * np.sum(output_delta, axis=0, keepdims=True)\n",
    "    hidden_weights += learning_rate * X.T.dot(hidden_delta)\n",
    "    hidden_bias += learning_rate * np.sum(hidden_delta, axis=0, keepdims=True)\n",
    "\n",
    "# Testing the trained network\n",
    "hidden_layer = sigmoid(np.dot(X, hidden_weights) + hidden_bias)\n",
    "output_layer = sigmoid(np.dot(hidden_layer, output_weights) + output_bias)\n",
    "\n",
    "print(\"Predicted Output after Training:\")\n",
    "print(output_layer)\n",
    "threshold = 0.5\n",
    "rounded_output = np.round(output_layer)\n",
    "rounded_output = (output_layer > threshold).astype(int)\n",
    "\n",
    "print(\"Rounded Output:\")\n",
    "print(rounded_output)\n",
    "\n"
   ]
  }
 ],
 "metadata": {
  "kernelspec": {
   "display_name": "Python 3",
   "language": "python",
   "name": "python3"
  },
  "language_info": {
   "codemirror_mode": {
    "name": "ipython",
    "version": 3
   },
   "file_extension": ".py",
   "mimetype": "text/x-python",
   "name": "python",
   "nbconvert_exporter": "python",
   "pygments_lexer": "ipython3",
   "version": "3.9.9"
  }
 },
 "nbformat": 4,
 "nbformat_minor": 2
}
