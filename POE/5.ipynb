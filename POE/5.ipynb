{
 "cells": [
  {
   "cell_type": "code",
   "execution_count": null,
   "metadata": {},
   "outputs": [],
   "source": [
    "# Implement feed forward single layer perceptron with suitable example."
   ]
  },
  {
   "cell_type": "code",
   "execution_count": 15,
   "metadata": {},
   "outputs": [
    {
     "name": "stdout",
     "output_type": "stream",
     "text": [
      "Trained weights: [0.54451611 0.03380665]\n",
      "\n",
      "Testing the trained perceptron:\n",
      "Input: [0 0] Output: 0\n",
      "Input: [0 1] Output: 1\n",
      "Input: [1 0] Output: 1\n",
      "Input: [1 1] Output: 1\n"
     ]
    }
   ],
   "source": [
    "# single layer perceptron for OR gate\n",
    "import numpy as np\n",
    "\n",
    "def activate(x):\n",
    "    return 1 if x >0 else 0\n",
    "\n",
    "# Define the single-layer perceptron function\n",
    "def single_layer_perceptron(inputs, weights):\n",
    "    weighted_sum = np.dot(inputs, weights)\n",
    "    output = activate(weighted_sum)\n",
    "    return output\n",
    "\n",
    "# Define the logical OR training data\n",
    "training_inputs = np.array([[0, 0], [0, 1], [1, 0], [1, 1]])\n",
    "expected_outputs = np.array([0, 1, 1, 1])\n",
    "\n",
    "weights=np.random.randn(2)\n",
    "\n",
    "learning_rate = 0.1\n",
    "epochs = 100\n",
    "\n",
    "for epoch in range(epochs):\n",
    "    for inputs, expected_output in zip(training_inputs, expected_outputs):\n",
    "        prediction = single_layer_perceptron(inputs, weights)\n",
    "        error = expected_output - prediction\n",
    "        \n",
    "        # Update weights based on the error\n",
    "        weights += learning_rate * error * inputs\n",
    "\n",
    "print(\"Trained weights:\", weights)\n",
    "test_inputs = np.array([[0, 0], [0, 1], [1, 0], [1, 1]])\n",
    "print(\"\\nTesting the trained perceptron:\")\n",
    "for inputs in test_inputs:\n",
    "    output = single_layer_perceptron(inputs, weights)\n",
    "    print(f\"Input: {inputs} Output: {output}\")\n"
   ]
  }
 ],
 "metadata": {
  "kernelspec": {
   "display_name": "Python 3",
   "language": "python",
   "name": "python3"
  },
  "language_info": {
   "codemirror_mode": {
    "name": "ipython",
    "version": 3
   },
   "file_extension": ".py",
   "mimetype": "text/x-python",
   "name": "python",
   "nbconvert_exporter": "python",
   "pygments_lexer": "ipython3",
   "version": "3.9.9"
  }
 },
 "nbformat": 4,
 "nbformat_minor": 2
}
