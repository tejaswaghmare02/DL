{
 "cells": [
  {
   "cell_type": "code",
   "execution_count": 3,
   "metadata": {},
   "outputs": [],
   "source": [
    "# 1. Implement Data Manipulation (Numpy library) Operations Broadcasting Indexing and slicing. Also display head, tail, size of data and remove null values from the dataset."
   ]
  },
  {
   "cell_type": "code",
   "execution_count": 4,
   "metadata": {},
   "outputs": [
    {
     "name": "stdout",
     "output_type": "stream",
     "text": [
      "[1 2 3 4 5 6 7 8 9]\n",
      "[ 5 10 15 20 25 30 35 40 45]\n"
     ]
    }
   ],
   "source": [
    "# Broadcasting\n",
    "import numpy as np\n",
    "\n",
    "#create a numpy array\n",
    "arr1=np.arange(1,10)\n",
    "print(arr1)\n",
    "\n",
    "b=5\n",
    "result=arr1*b\n",
    "print(result)"
   ]
  },
  {
   "cell_type": "code",
   "execution_count": 5,
   "metadata": {},
   "outputs": [
    {
     "name": "stdout",
     "output_type": "stream",
     "text": [
      "30\n"
     ]
    }
   ],
   "source": [
    "# Indexing\n",
    "\n",
    "arr2 = np.array([10, 20, 30, 40, 50])\n",
    "\n",
    "element = arr2[2]  # Accessing the third element\n",
    "print(element)"
   ]
  },
  {
   "cell_type": "code",
   "execution_count": 6,
   "metadata": {},
   "outputs": [
    {
     "name": "stdout",
     "output_type": "stream",
     "text": [
      "[4 5 6]\n",
      "[2 5 8]\n",
      "[[2 3]\n",
      " [5 6]]\n"
     ]
    }
   ],
   "source": [
    "# Slicing \n",
    "matrix = np.array([[1, 2, 3], [4, 5, 6], [7, 8, 9]])\n",
    "\n",
    "row_slice = matrix[1, :]  # Extracting the second row\n",
    "print(row_slice)\n",
    "\n",
    "column_slice = matrix[:, 1]  # Extracting the second column\n",
    "print(column_slice)\n",
    "\n",
    "submatrix = matrix[0:2, 1:]  # Extracting a submatrix from rows 1 and 2, and columns 2 and 3\n",
    "print(submatrix)"
   ]
  },
  {
   "cell_type": "code",
   "execution_count": 7,
   "metadata": {},
   "outputs": [],
   "source": [
    "# read csv\n",
    "import pandas as pd\n",
    "\n",
    "data=pd.read_csv('weight-height.csv')"
   ]
  },
  {
   "cell_type": "code",
   "execution_count": 9,
   "metadata": {},
   "outputs": [
    {
     "name": "stdout",
     "output_type": "stream",
     "text": [
      "             Height            Weight\n",
      "0   73.847017017515  241.893563180437\n",
      "1  68.7819040458903  162.310472521300\n",
      "2  74.1101053917849    212.7408555565\n",
      "3  71.7309784033377  220.042470303077\n",
      "4  69.8817958611153  206.349800623871\n"
     ]
    }
   ],
   "source": [
    "#head\n",
    "print(data.head())\n"
   ]
  },
  {
   "cell_type": "code",
   "execution_count": 10,
   "metadata": {},
   "outputs": [
    {
     "name": "stdout",
     "output_type": "stream",
     "text": [
      "                Height            Weight\n",
      "9995  66.1726521477708  136.777454183235\n",
      "9996   67.067154649054  170.867905890713\n",
      "9997  63.8679922137577  128.475318784122\n",
      "9998  69.0342431307346  163.852461346571\n",
      "9999  61.9442458795172  113.649102675312\n"
     ]
    }
   ],
   "source": [
    "#tail\n",
    "print(data.tail())"
   ]
  },
  {
   "cell_type": "code",
   "execution_count": 17,
   "metadata": {},
   "outputs": [
    {
     "name": "stdout",
     "output_type": "stream",
     "text": [
      "20000\n"
     ]
    }
   ],
   "source": [
    "#size of data\n",
    "print(data.size)\n"
   ]
  },
  {
   "cell_type": "code",
   "execution_count": 15,
   "metadata": {},
   "outputs": [
    {
     "name": "stdout",
     "output_type": "stream",
     "text": [
      "Height    2\n",
      "Weight    2\n",
      "dtype: int64\n"
     ]
    }
   ],
   "source": [
    "# Detecting null values\n",
    "\n",
    "print(data.isnull().sum()) #gives total null values per column\n"
   ]
  },
  {
   "cell_type": "code",
   "execution_count": 18,
   "metadata": {},
   "outputs": [
    {
     "name": "stdout",
     "output_type": "stream",
     "text": [
      "Height    0\n",
      "Weight    0\n",
      "dtype: int64\n"
     ]
    }
   ],
   "source": [
    "# Removing null values\n",
    "\n",
    "df=data.dropna()  #deletes rows with null value\n",
    "print(df.isnull().sum())"
   ]
  },
  {
   "cell_type": "code",
   "execution_count": 19,
   "metadata": {},
   "outputs": [
    {
     "name": "stdout",
     "output_type": "stream",
     "text": [
      "Height    9998\n",
      "Weight    9998\n",
      "dtype: int64\n"
     ]
    }
   ],
   "source": [
    "print(data.notnull().sum()) # not null values"
   ]
  }
 ],
 "metadata": {
  "kernelspec": {
   "display_name": "Python 3",
   "language": "python",
   "name": "python3"
  },
  "language_info": {
   "codemirror_mode": {
    "name": "ipython",
    "version": 3
   },
   "file_extension": ".py",
   "mimetype": "text/x-python",
   "name": "python",
   "nbconvert_exporter": "python",
   "pygments_lexer": "ipython3",
   "version": "3.9.9"
  }
 },
 "nbformat": 4,
 "nbformat_minor": 2
}
