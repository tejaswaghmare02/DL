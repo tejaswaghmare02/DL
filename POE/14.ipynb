{
 "cells": [
  {
   "cell_type": "markdown",
   "metadata": {},
   "source": [
    "# Using a Pre-trained ImageNet Network"
   ]
  },
  {
   "cell_type": "code",
   "execution_count": 6,
   "metadata": {},
   "outputs": [
    {
     "name": "stdout",
     "output_type": "stream",
     "text": [
      "1/1 [==============================] - 7s 7s/step\n",
      "n11939491: daisy (0.99)\n",
      "n02206856: bee (0.01)\n",
      "n07730033: cardoon (0.00)\n",
      "n02280649: cabbage_butterfly (0.00)\n",
      "n02281406: sulphur_butterfly (0.00)\n"
     ]
    }
   ],
   "source": [
    "from tensorflow.keras.applications import ResNet50\n",
    "from tensorflow.keras.preprocessing import image\n",
    "from tensorflow.keras.applications.resnet50 import preprocess_input, decode_predictions\n",
    "import numpy as np\n",
    "\n",
    "# Load a pre-trained ResNet50 model\n",
    "model = ResNet50(weights='imagenet')\n",
    "\n",
    "# Define your custom image preprocessing function (for your specific dataset)\n",
    "def preprocess_custom_image(image_path):\n",
    "    # Load and preprocess your custom image\n",
    "    img = image.load_img(image_path, target_size=(224, 224))\n",
    "    x = image.img_to_array(img)\n",
    "    x = np.expand_dims(x, axis=0)\n",
    "    x = preprocess_input(x)\n",
    "    return x\n",
    "\n",
    "# Load and preprocess a custom image for classification\n",
    "custom_image_path = 'flower.jpg'  # Replace with your image path\n",
    "custom_image = preprocess_custom_image(custom_image_path)\n",
    "\n",
    "# Make predictions using the pre-trained model\n",
    "predictions = model.predict(custom_image)\n",
    "\n",
    "# Decode the predictions to human-readable labels\n",
    "decoded_predictions = decode_predictions(predictions, top=5)[0]\n",
    "\n",
    "# Print the top predicted labels and their associated probabilities\n",
    "for label, description, probability in decoded_predictions:\n",
    "    print(f\"{label}: {description} ({probability:.2f})\")\n"
   ]
  },
  {
   "cell_type": "code",
   "execution_count": null,
   "metadata": {},
   "outputs": [],
   "source": []
  }
 ],
 "metadata": {
  "kernelspec": {
   "display_name": "Python 3",
   "language": "python",
   "name": "python3"
  },
  "language_info": {
   "codemirror_mode": {
    "name": "ipython",
    "version": 3
   },
   "file_extension": ".py",
   "mimetype": "text/x-python",
   "name": "python",
   "nbconvert_exporter": "python",
   "pygments_lexer": "ipython3",
   "version": "3.9.9"
  }
 },
 "nbformat": 4,
 "nbformat_minor": 2
}
