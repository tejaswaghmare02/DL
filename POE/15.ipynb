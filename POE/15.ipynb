{
 "cells": [
  {
   "cell_type": "markdown",
   "metadata": {},
   "source": [
    "# Implementation of Simple RNN"
   ]
  },
  {
   "cell_type": "code",
   "execution_count": null,
   "metadata": {},
   "outputs": [],
   "source": [
    "from keras.optimizers import Adam\n",
    "from tensorflow.keras.datasets import imdb\n",
    "from tensorflow.keras.models import Sequential\n",
    "from tensorflow.keras.layers import Embedding, SimpleRNN, Dense\n",
    "from tensorflow.keras.preprocessing import sequence\n",
    "import matplotlib.pyplot as plt\n",
    "\n",
    "# Load the IMDb dataset\n",
    "max_features = 10000\n",
    "maxlen = 100\n",
    "batch_size = 32\n",
    "\n",
    "print(\"Loading data...\")\n",
    "(train_x, train_y), (test_x, test_y) = imdb.load_data(num_words=max_features)\n",
    "print(len(train_x), \"train sequences\")\n",
    "print(len(test_x), \"test sequences\")\n",
    "\n",
    "# Pad sequences to a fixed length\n",
    "print(\"Pad sequences (samples x time)\")\n",
    "train_x = sequence.pad_sequences(train_x, maxlen=maxlen)\n",
    "test_x = sequence.pad_sequences(test_x, maxlen=maxlen)\n",
    "\n",
    "# Create a Simple RNN model\n",
    "simple_rnn_model = Sequential()\n",
    "simple_rnn_model.add(Embedding(max_features, 128))\n",
    "simple_rnn_model.add(SimpleRNN(64))\n",
    "simple_rnn_model.add(Dense(1, activation='sigmoid'))\n",
    "\n",
    "simple_rnn_model.compile(loss='binary_crossentropy', optimizer=Adam(), metrics=['accuracy'])\n",
    "\n",
    "# Train the Simple RNN model\n",
    "simple_rnn_history = simple_rnn_model.fit(train_x, train_y, batch_size=batch_size, epochs=5, validation_data=(test_x, test_y))\n",
    "\n",
    "# Plot training curves\n",
    "def plot_training_curves(history, title):\n",
    "    plt.figure(figsize=(12, 4))\n",
    "    plt.subplot(1, 2, 1)\n",
    "    plt.plot(history.history['loss'], label='Training Loss')\n",
    "    plt.plot(history.history['val_loss'], label='Validation Loss')\n",
    "    plt.xlabel('Epochs')\n",
    "    plt.ylabel('Loss')\n",
    "    plt.legend()\n",
    "    plt.title(f'{title} - Loss')\n",
    "\n",
    "    plt.subplot(1, 2, 2)\n",
    "    plt.plot(history.history['accuracy'], label='Training Accuracy')\n",
    "    plt.plot(history.history['val_accuracy'], label='Validation Accuracy')\n",
    "    plt.xlabel('Epochs')\n",
    "    plt.ylabel('Accuracy')\n",
    "    plt.legend()\n",
    "    plt.title(f'{title} - Accuracy')\n",
    "\n",
    "    plt.show()\n",
    "\n",
    "plot_training_curves(simple_rnn_history, 'Simple RNN')\n",
    "\n",
    "# Inference and prediction\n",
    "def predict_sentiment(model, text):\n",
    "    word_index = imdb.get_word_index()\n",
    "    text = text.lower().split()\n",
    "    text = [word_index[word] if word in word_index and word_index[word] < max_features else 2 for word in text]\n",
    "    text = sequence.pad_sequences([text], maxlen=maxlen)\n",
    "    prediction = model.predict(text)\n",
    "    return 'Positive' if prediction > 0.5 else 'Negative'\n",
    "\n",
    "sample_review = \"This movie was fantastic and really captivating.\"\n",
    "print(f\"Sample Review: '{sample_review}'\")\n",
    "print(f\"Simple RNN Prediction: {predict_sentiment(simple_rnn_model, sample_review)}\")\n",
    "\n"
   ]
  }
 ],
 "metadata": {
  "kernelspec": {
   "display_name": "Python 3",
   "language": "python",
   "name": "python3"
  },
  "language_info": {
   "codemirror_mode": {
    "name": "ipython",
    "version": 3
   },
   "file_extension": ".py",
   "mimetype": "text/x-python",
   "name": "python",
   "nbconvert_exporter": "python",
   "pygments_lexer": "ipython3",
   "version": "3.9.9"
  }
 },
 "nbformat": 4,
 "nbformat_minor": 2
}
